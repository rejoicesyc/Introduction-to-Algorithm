{
 "metadata": {
  "language_info": {
   "codemirror_mode": {
    "name": "ipython",
    "version": 3
   },
   "file_extension": ".py",
   "mimetype": "text/x-python",
   "name": "python",
   "nbconvert_exporter": "python",
   "pygments_lexer": "ipython3",
   "version": "3.7.9-final"
  },
  "orig_nbformat": 2,
  "kernelspec": {
   "name": "python3",
   "display_name": "Python 3.7.9 64-bit",
   "metadata": {
    "interpreter": {
     "hash": "f0acf795a5bd762d19812954b2c3614cf41b91e8295d3743ee0afb23e3b62dee"
    }
   }
  }
 },
 "nbformat": 4,
 "nbformat_minor": 2,
 "cells": [
  {
   "source": [
    "# insert sort\n",
    "\n",
    "测试地址 https://leetcode-cn.com/problems/sort-an-array/\n",
    "\n",
    "通过 10 / 11 的测试，最后一例超时"
   ],
   "cell_type": "markdown",
   "metadata": {}
  },
  {
   "cell_type": "code",
   "execution_count": 1,
   "metadata": {},
   "outputs": [],
   "source": [
    "from typing import List\n",
    "\n",
    "class Solution:\n",
    "    def insert_sort(self, nums: List[int]) -> List[int]:\n",
    "        n = len(nums)\n",
    "        for i in range(1, n):\n",
    "            j = i \n",
    "            key = nums[j]\n",
    "            while j > 0 and key < nums[j - 1]:\n",
    "                nums[j] = nums[j - 1]\n",
    "                j -= 1\n",
    "            nums[j] = key\n",
    "        return nums"
   ]
  },
  {
   "cell_type": "code",
   "execution_count": null,
   "metadata": {},
   "outputs": [],
   "source": []
  }
 ]
}