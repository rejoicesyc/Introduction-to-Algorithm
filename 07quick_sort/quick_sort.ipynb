{
 "metadata": {
  "language_info": {
   "codemirror_mode": {
    "name": "ipython",
    "version": 3
   },
   "file_extension": ".py",
   "mimetype": "text/x-python",
   "name": "python",
   "nbconvert_exporter": "python",
   "pygments_lexer": "ipython3",
   "version": 3
  },
  "orig_nbformat": 2
 },
 "nbformat": 4,
 "nbformat_minor": 2,
 "cells": [
  {
   "source": [
    "# quick sort\n",
    "测试地址：https://leetcode-cn.com/problems/sort-an-array/\n",
    "\n",
    "通过所有测试"
   ],
   "cell_type": "markdown",
   "metadata": {}
  },
  {
   "cell_type": "code",
   "execution_count": null,
   "metadata": {},
   "outputs": [],
   "source": [
    "from typing import List"
   ]
  },
  {
   "source": [
    "1. 第一个版本选择了最左边的数作为 pivot"
   ],
   "cell_type": "markdown",
   "metadata": {}
  },
  {
   "cell_type": "code",
   "execution_count": null,
   "metadata": {},
   "outputs": [],
   "source": [
    "class Solution:\n",
    "    def sortArray(self, nums: List[int]) -> List[int]:\n",
    "        def quickSort(left: int, right: int) -> None:\n",
    "            if left >= right:\n",
    "                return\n",
    "            pivot, i, j = nums[left], left, right\n",
    "            while i < j:\n",
    "                while i < j and nums[j] >= pivot:\n",
    "                    j -= 1\n",
    "                while i < j and nums[i] <= pivot:\n",
    "                    i += 1\n",
    "                nums[i], nums[j] = nums[j], nums[i]\n",
    "            nums[left], nums[j] = nums[j], nums[left]\n",
    "            quickSort(left, j - 1)\n",
    "            quickSort(j + 1, right)\n",
    "\n",
    "        quickSort(0, len(nums) - 1)\n",
    "        return nums"
   ]
  }
 ]
}