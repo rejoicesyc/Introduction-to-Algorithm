{
 "metadata": {
  "language_info": {
   "codemirror_mode": {
    "name": "ipython",
    "version": 3
   },
   "file_extension": ".py",
   "mimetype": "text/x-python",
   "name": "python",
   "nbconvert_exporter": "python",
   "pygments_lexer": "ipython3",
   "version": "3.7.9-final"
  },
  "orig_nbformat": 2,
  "kernelspec": {
   "name": "python3",
   "display_name": "Python 3.7.9 64-bit",
   "metadata": {
    "interpreter": {
     "hash": "f0acf795a5bd762d19812954b2c3614cf41b91e8295d3743ee0afb23e3b62dee"
    }
   }
  }
 },
 "nbformat": 4,
 "nbformat_minor": 2,
 "cells": [
  {
   "source": [
    "# merge sort\n",
    "\n",
    "在 https://leetcode-cn.com/problems/sort-an-array/ 通过所有测试"
   ],
   "cell_type": "markdown",
   "metadata": {}
  },
  {
   "cell_type": "code",
   "execution_count": 1,
   "metadata": {},
   "outputs": [],
   "source": [
    "from typing import List\n",
    "\n",
    "class Solution:\n",
    "    def merge(self, left: List[int], right: List[int]) -> None:\n",
    "        res, i, j = [], 0, 0\n",
    "        n_left, n_right = len(left), len(right)\n",
    "        while i < n_left and j < n_right:\n",
    "            if left[i] <= right[j]:\n",
    "                res.append(left[i])\n",
    "                i += 1\n",
    "            else:\n",
    "                res.append(right[j])\n",
    "                j += 1\n",
    "        return res + left[i:] + right[j:]\n",
    "        \n",
    "    def sortArray(self, nums: List[int]) -> List[int]:\n",
    "        n = len(nums)\n",
    "        if n < 2:\n",
    "            return nums\n",
    "        \n",
    "        mid = n // 2\n",
    "        return self.merge(self.sortArray(nums[:mid]), self.sortArray(nums[mid:]))"
   ]
  },
  {
   "cell_type": "code",
   "execution_count": null,
   "metadata": {},
   "outputs": [],
   "source": []
  }
 ]
}