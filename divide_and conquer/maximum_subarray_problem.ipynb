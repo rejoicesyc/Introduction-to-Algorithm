{
 "metadata": {
  "language_info": {
   "codemirror_mode": {
    "name": "ipython",
    "version": 3
   },
   "file_extension": ".py",
   "mimetype": "text/x-python",
   "name": "python",
   "nbconvert_exporter": "python",
   "pygments_lexer": "ipython3",
   "version": "3.7.9-final"
  },
  "orig_nbformat": 2,
  "kernelspec": {
   "name": "python3",
   "display_name": "Python 3.7.9 64-bit",
   "metadata": {
    "interpreter": {
     "hash": "f0acf795a5bd762d19812954b2c3614cf41b91e8295d3743ee0afb23e3b62dee"
    }
   }
  }
 },
 "nbformat": 4,
 "nbformat_minor": 2,
 "cells": [
  {
   "source": [
    "# maximum subarray problem\n",
    "\n",
    "股票问题测试 https://leetcode-cn.com/problems/best-time-to-buy-and-sell-stock/\n",
    "\n",
    "最大子序和测试 https://leetcode-cn.com/problems/maximum-subarray/\n",
    "\n",
    "虽然书中提出的是股票问题，但是书中的解法是求出两天之间票价的插值，转化成求最大子序和问题。\n",
    "下面给出原题解法和通过最大子序和求解的方法"
   ],
   "cell_type": "markdown",
   "metadata": {}
  },
  {
   "cell_type": "code",
   "execution_count": 1,
   "metadata": {},
   "outputs": [],
   "source": [
    "from typing import List"
   ]
  },
  {
   "source": [
    "## 暴力算法\n",
    "\n",
    "通过了最大子序和 202 / 203 的测试例，最后一例超时\n",
    "\n",
    "通过了股票问题 198 / 210 的测试例，最后超时"
   ],
   "cell_type": "markdown",
   "metadata": {}
  },
  {
   "cell_type": "code",
   "execution_count": 3,
   "metadata": {},
   "outputs": [],
   "source": [
    "class Solution1:\n",
    "    def maxSubArray(self, nums: List[int]) -> int:\n",
    "        res, n = - float('inf'), len(nums)\n",
    "        for i in range(n):\n",
    "            tmp = nums[i]\n",
    "            if tmp > res:\n",
    "                res = tmp\n",
    "            for j in range(i + 1, n):\n",
    "                tmp += nums[j]\n",
    "                if tmp > res:\n",
    "                    res = tmp\n",
    "        return res\n",
    "\n",
    "    def maxProfit(self, prices: List[int]) -> int:\n",
    "        changes = [prices[i] - prices[i - 1] for i in range(1, len(prices))]\n",
    "        return max(self.maxSubArray(changes), 0)"
   ]
  },
  {
   "source": [
    "## 分治法"
   ],
   "cell_type": "markdown",
   "metadata": {}
  },
  {
   "source": [
    "# class Solution2:\n",
    "a = (1, 2)\n",
    "b = (2, 3)\n",
    "c, d = max(a, b, key=lambda x : x[0])\n",
    "c, d"
   ],
   "cell_type": "code",
   "metadata": {},
   "execution_count": 4,
   "outputs": [
    {
     "output_type": "execute_result",
     "data": {
      "text/plain": [
       "(2, 3)"
      ]
     },
     "metadata": {},
     "execution_count": 4
    }
   ]
  },
  {
   "source": [
    "## 比较好的子数组和解法\n",
    "\n",
    "通过子数组所有测试\n",
    "\n",
    "通过股票问题 198 / 210 的测试\n",
    "\n",
    "解释：因为这个例子是 range(10000, -1, -1) 的数组，所以在求changes和后面动态规划的时候遍历了两遍时间太长不能通过。"
   ],
   "cell_type": "markdown",
   "metadata": {}
  },
  {
   "cell_type": "code",
   "execution_count": null,
   "metadata": {},
   "outputs": [],
   "source": [
    "class Solution3:\n",
    "    def maxSubArray(self, nums: List[int]) -> int:\n",
    "        pre, res = 0, nums[0]\n",
    "        for i in nums:\n",
    "            pre = max(pre + i, i)\n",
    "            res = max(pre, res)\n",
    "        return res\n",
    "\n",
    "    def maxProfit(self, prices: List[int]) -> int:\n",
    "        changes = [prices[i] - prices[i - 1] for i in range(1, len(prices))]\n",
    "        return max(self.maxSubArray(changes), 0)"
   ]
  },
  {
   "source": [
    "## 股票问题的解法\n",
    "\n",
    "通过股票问题所有测试"
   ],
   "cell_type": "markdown",
   "metadata": {}
  },
  {
   "cell_type": "code",
   "execution_count": null,
   "metadata": {},
   "outputs": [],
   "source": [
    "class Solution4:\n",
    "    def maximum_subarray(self, prices: List[int]) -> int:\n",
    "        max_profit, min_price = 0, float('inf')\n",
    "\n",
    "        for price in prices:\n",
    "            min_price, max_profit = min(min_price, price), max(price - min_price, max_profit)\n",
    "\n",
    "        return max_profit"
   ]
  }
 ]
}