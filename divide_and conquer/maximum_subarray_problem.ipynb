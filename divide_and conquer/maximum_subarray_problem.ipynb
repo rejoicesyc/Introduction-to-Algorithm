{
 "metadata": {
  "language_info": {
   "codemirror_mode": {
    "name": "ipython",
    "version": 3
   },
   "file_extension": ".py",
   "mimetype": "text/x-python",
   "name": "python",
   "nbconvert_exporter": "python",
   "pygments_lexer": "ipython3",
   "version": "3.7.9-final"
  },
  "orig_nbformat": 2,
  "kernelspec": {
   "name": "python3",
   "display_name": "Python 3.7.9 64-bit",
   "metadata": {
    "interpreter": {
     "hash": "f0acf795a5bd762d19812954b2c3614cf41b91e8295d3743ee0afb23e3b62dee"
    }
   }
  }
 },
 "nbformat": 4,
 "nbformat_minor": 2,
 "cells": [
  {
   "source": [
    "# maximum subarray problem\n",
    "\n",
    "买卖股票的最佳时机测试 https://leetcode-cn.com/problems/best-time-to-buy-and-sell-stock/\n",
    "\n",
    "最大子序和测试 https://leetcode-cn.com/problems/maximum-subarray/\n",
    "\n",
    "虽然书中提出的是股票问题，但是书中的解法是求出两天之间票价的插值，转化成求最大子序和问题。\n",
    "下面给出原题解法和通过最大子序和求解的方法\n",
    "\n",
    "每个问题中 maxProfit 函数调用解决买卖股票问题， maxSubArray 函数解决最大子数组问题，其他函数为辅助函数。"
   ],
   "cell_type": "markdown",
   "metadata": {}
  },
  {
   "cell_type": "code",
   "execution_count": 5,
   "metadata": {},
   "outputs": [],
   "source": [
    "from typing import List"
   ]
  },
  {
   "source": [
    "## 暴力算法\n",
    "\n",
    "通过了最大子序和 202 / 203 的测试例，最后一例超时\n",
    "\n",
    "通过了股票问题 198 / 210 的测试例，最后超时"
   ],
   "cell_type": "markdown",
   "metadata": {}
  },
  {
   "cell_type": "code",
   "execution_count": 6,
   "metadata": {},
   "outputs": [],
   "source": [
    "class Solution1:\n",
    "    def maxSubArray(self, nums: List[int]) -> int:\n",
    "        res, n = - float('inf'), len(nums)\n",
    "        for i in range(n):\n",
    "            tmp = nums[i]\n",
    "            if tmp > res:\n",
    "                res = tmp\n",
    "            for j in range(i + 1, n):\n",
    "                tmp += nums[j]\n",
    "                if tmp > res:\n",
    "                    res = tmp\n",
    "        return res\n",
    "\n",
    "    def maxProfit(self, prices: List[int]) -> int:\n",
    "        changes = [prices[i] - prices[i - 1] for i in range(1, len(prices))]\n",
    "        return max(self.maxSubArray(changes), 0)"
   ]
  },
  {
   "source": [
    "## 分治法\n",
    "\n",
    "通过了最大子序和， 买卖股票问题的所有测试"
   ],
   "cell_type": "markdown",
   "metadata": {}
  },
  {
   "source": [
    "class Solution2:\n",
    "    def maxCrossingSubarray(self, nums: List[int]) -> None:\n",
    "        n = len(nums)\n",
    "        mid = n // 2\n",
    "\n",
    "        res1, tmp = - float('inf'), 0\n",
    "        for i in range(mid - 1, -1, -1):\n",
    "            tmp += nums[i]\n",
    "            res1 = max(res1, tmp)\n",
    "\n",
    "        res2, tmp = - float('inf'), 0\n",
    "        for i in range(mid, n):\n",
    "            tmp += nums[i]\n",
    "            res2 = max(res2, tmp)\n",
    "\n",
    "        return res1 + res2\n",
    "\n",
    "    def maxSubArray(self, nums: List[int]) -> int:\n",
    "        n = len(nums)\n",
    "        if n == 1:\n",
    "            return nums[0]\n",
    "        else:\n",
    "            mid = n // 2\n",
    "            return max(self.maxSubArray(nums[:mid]), self.maxSubArray(nums[mid:]), self.maxCrossingSubarray(nums))\n",
    "\n",
    "    def maxProfit(self, prices: List[int]) -> int:\n",
    "        n = len(prices)\n",
    "\n",
    "        # 求最大子数组函数不能接收空数组输入\n",
    "        if n == 1:\n",
    "            return 0\n",
    "\n",
    "        changes = [prices[i] - prices[i - 1] for i in range(1, n)]\n",
    "        return max(self.maxSubArray(changes), 0)"
   ],
   "cell_type": "code",
   "metadata": {},
   "execution_count": 7,
   "outputs": []
  },
  {
   "source": [
    "## 比较好的子数组和解法\n",
    "\n",
    "通过子数组所有测试\n",
    "\n",
    "通过股票问题 198 / 210 的测试\n",
    "\n",
    "解释：因为这个例子是 range(10000, -1, -1) 的数组，所以在求changes和后面动态规划的时候遍历了两遍时间太长不能通过。"
   ],
   "cell_type": "markdown",
   "metadata": {}
  },
  {
   "cell_type": "code",
   "execution_count": 8,
   "metadata": {},
   "outputs": [],
   "source": [
    "class Solution3:\n",
    "    def maxSubArray(self, nums: List[int]) -> int:\n",
    "        pre, res = 0, nums[0]\n",
    "        for i in nums:\n",
    "            pre, res = max(pre + i, i), max(pre, res)\n",
    "        return res\n",
    "\n",
    "    def maxProfit(self, prices: List[int]) -> int:\n",
    "        changes = [prices[i] - prices[i - 1] for i in range(1, len(prices))]\n",
    "        return max(self.maxSubArray(changes), 0)"
   ]
  },
  {
   "source": [
    "## 股票问题的解法\n",
    "\n",
    "通过股票问题所有测试"
   ],
   "cell_type": "markdown",
   "metadata": {}
  },
  {
   "cell_type": "code",
   "execution_count": 9,
   "metadata": {},
   "outputs": [],
   "source": [
    "class Solution4:\n",
    "    def maximum_subarray(self, prices: List[int]) -> int:\n",
    "        max_profit, min_price = 0, float('inf')\n",
    "\n",
    "        for price in prices:\n",
    "            min_price, max_profit = min(min_price, price), max(price - min_price, max_profit)\n",
    "\n",
    "        return max_profit"
   ]
  }
 ]
}