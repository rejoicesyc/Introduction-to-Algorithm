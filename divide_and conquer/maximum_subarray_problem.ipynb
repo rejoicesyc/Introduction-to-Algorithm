{
 "metadata": {
  "language_info": {
   "codemirror_mode": {
    "name": "ipython",
    "version": 3
   },
   "file_extension": ".py",
   "mimetype": "text/x-python",
   "name": "python",
   "nbconvert_exporter": "python",
   "pygments_lexer": "ipython3",
   "version": "3.7.9-final"
  },
  "orig_nbformat": 2,
  "kernelspec": {
   "name": "python3",
   "display_name": "Python 3.7.9 64-bit",
   "metadata": {
    "interpreter": {
     "hash": "f0acf795a5bd762d19812954b2c3614cf41b91e8295d3743ee0afb23e3b62dee"
    }
   }
  }
 },
 "nbformat": 4,
 "nbformat_minor": 2,
 "cells": [
  {
   "source": [
    "# maximum subarray problem\n",
    "\n",
    "股票问题测试 https://leetcode-cn.com/problems/best-time-to-buy-and-sell-stock/\n",
    "\n",
    "最大子序和测试 https://leetcode-cn.com/problems/maximum-subarray/\n",
    "\n",
    "虽然书中提出的是股票问题，但是书中的解法是求出两天之间票价的插值，转化成求最大子序和问题。\n",
    "下面给出原题解法和通过最大子序和求解的方法"
   ],
   "cell_type": "markdown",
   "metadata": {}
  },
  {
   "cell_type": "code",
   "execution_count": 1,
   "metadata": {},
   "outputs": [],
   "source": [
    "from typing import List"
   ]
  },
  {
   "source": [
    "## 暴力算法\n",
    "\n",
    "通过了最大子序和 202 / 203 的测试例，最后一例超时\n",
    "\n",
    "通过了股票问题 198 / 210 的测试例，最后超时"
   ],
   "cell_type": "markdown",
   "metadata": {}
  },
  {
   "cell_type": "code",
   "execution_count": 2,
   "metadata": {},
   "outputs": [],
   "source": [
    "class Solution1:\n",
    "    def maxSubArray(self, nums: List[int]) -> int:\n",
    "        res, n = 0, len(nums) \n",
    "        # 在最大子序和中需要改成下面这行，因为股票可以不买保持0收益，但是子序和要求子序列不为空\n",
    "        # res, n = - float('inf'), len(nums) \n",
    "\n",
    "        for i in range(n):\n",
    "            tmp = nums[i]\n",
    "            if tmp > res:\n",
    "                res = tmp\n",
    "            for j in range(i + 1, n):\n",
    "                tmp += nums[j]\n",
    "                if tmp > res:\n",
    "                    res = tmp\n",
    "        return res\n",
    "\n",
    "    def maxProfit(self, prices: List[int]) -> int:\n",
    "        changes = [prices[i] - prices[i - 1] for i in range(1, len(prices))]\n",
    "        return self.maxSubArray(changes)"
   ]
  },
  {
   "source": [
    "## 股票问题的解法\n",
    "\n",
    "通过股票所有测试"
   ],
   "cell_type": "markdown",
   "metadata": {}
  },
  {
   "cell_type": "code",
   "execution_count": null,
   "metadata": {},
   "outputs": [],
   "source": [
    "class Solution4:\n",
    "    def maximum_subarray(self, prices: List[int]) -> int:\n",
    "        max_profit, min_price = 0, float('inf')\n",
    "\n",
    "        for price in prices:\n",
    "            min_price, max_profit = min(min_price, price), max(price - min_price, max_profit)\n",
    "\n",
    "        return max_profit"
   ]
  }
 ]
}