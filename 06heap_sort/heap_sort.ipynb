{
 "metadata": {
  "language_info": {
   "codemirror_mode": {
    "name": "ipython",
    "version": 3
   },
   "file_extension": ".py",
   "mimetype": "text/x-python",
   "name": "python",
   "nbconvert_exporter": "python",
   "pygments_lexer": "ipython3",
   "version": 3
  },
  "orig_nbformat": 2
 },
 "nbformat": 4,
 "nbformat_minor": 2,
 "cells": [
  {
   "source": [
    "# heap sort\n",
    "测试地址：https://leetcode-cn.com/problems/sort-an-array/\n",
    "通过所有测试"
   ],
   "cell_type": "markdown",
   "metadata": {}
  },
  {
   "cell_type": "code",
   "execution_count": null,
   "metadata": {},
   "outputs": [],
   "source": [
    "from typing import List"
   ]
  },
  {
   "source": [
    "1. 递归解法"
   ],
   "cell_type": "markdown",
   "metadata": {}
  },
  {
   "cell_type": "code",
   "execution_count": null,
   "metadata": {},
   "outputs": [],
   "source": [
    "class Solution1:\n",
    "    def sortArray(self, nums: List[int]) -> List[int]:\n",
    "        def heap_adjust(start: int, end: int) -> None:\n",
    "            child = start * 2 + 1\n",
    "            if child < end:\n",
    "                child = child + 1 if child + 1 < end and nums[child] < nums[child + 1] else child\n",
    "                if nums[child] > nums[start]:\n",
    "                    nums[child], nums[start] = nums[start], nums[child]\n",
    "                    heap_adjust(child, end)\n",
    "\n",
    "        n = len(nums)\n",
    "        for i in range(n // 2 - 1, -1, -1):\n",
    "            heap_adjust(i, n)\n",
    "        for i in range(n - 1, -1, -1):\n",
    "            nums[0], nums[i] = nums[i], nums[0]\n",
    "            heap_adjust(0, i)\n",
    "        return nums"
   ]
  },
  {
   "source": [
    "2. 迭代解法"
   ],
   "cell_type": "markdown",
   "metadata": {}
  },
  {
   "cell_type": "code",
   "execution_count": null,
   "metadata": {},
   "outputs": [],
   "source": [
    "class Solution2:\n",
    "    def sortArray(self, nums: List[int]) -> List[int]:\n",
    "        def heap_adjust(start: int, end: int) -> None:\n",
    "            child = start * 2 + 1\n",
    "            while child < end:\n",
    "                tmp = child + 1\n",
    "                child = tmp if tmp < end and nums[child] < nums[tmp] else child\n",
    "                if nums[child] > nums[start]:\n",
    "                    nums[child], nums[start] = nums[start], nums[child]\n",
    "                    start = child\n",
    "                    child = start * 2 + 1\n",
    "                else:\n",
    "                    break\n",
    "                \n",
    "        n = len(nums)\n",
    "        for i in range(n // 2 - 1, -1, -1):\n",
    "            heap_adjust(i, n)\n",
    "        for i in range(n - 1, -1, -1):\n",
    "            nums[0], nums[i] = nums[i], nums[0]\n",
    "            heap_adjust(0, i)\n",
    "        return nums"
   ]
  }
 ]
}