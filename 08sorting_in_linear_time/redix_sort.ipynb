{
 "metadata": {
  "language_info": {
   "codemirror_mode": {
    "name": "ipython",
    "version": 3
   },
   "file_extension": ".py",
   "mimetype": "text/x-python",
   "name": "python",
   "nbconvert_exporter": "python",
   "pygments_lexer": "ipython3",
   "version": "3.7.9-final"
  },
  "orig_nbformat": 2,
  "kernelspec": {
   "name": "python379jvsc74a57bd0f0acf795a5bd762d19812954b2c3614cf41b91e8295d3743ee0afb23e3b62dee",
   "display_name": "Python 3.7.9 64-bit"
  }
 },
 "nbformat": 4,
 "nbformat_minor": 2,
 "cells": [
  {
   "source": [
    "# redix sort\n",
    "\n",
    "测试地址 : https://leetcode-cn.com/problems/sort-an-array/\n",
    "\n",
    "通过所有测试"
   ],
   "cell_type": "markdown",
   "metadata": {}
  },
  {
   "cell_type": "code",
   "execution_count": 31,
   "metadata": {},
   "outputs": [],
   "source": [
    "from typing import List"
   ]
  },
  {
   "cell_type": "code",
   "execution_count": 33,
   "metadata": {},
   "outputs": [],
   "source": [
    "class Solution:\n",
    "    def sortArray(self, nums: List[int]) -> List[int]:\n",
    "        if not nums:\n",
    "            return []\n",
    "\n",
    "        digit = len(str(max([abs(each) for each in nums])))\n",
    "\n",
    "        tmp = [[] for _ in range(19)]\n",
    "        \"\"\"\n",
    "        tmp 数组用于记录当前位数字，从 -9 到 9，一共 19 种\n",
    "        [ 0 ...... 9 ...... 18 ]\n",
    "          -9 ~ -1  0   1 ~ 9\n",
    "        \"\"\"\n",
    "\n",
    "        mod, div = 10, 1\n",
    "        for i in range(digit):\n",
    "            for each in nums:\n",
    "                if each < 0:\n",
    "                    tmp[9 - abs(each) % mod // div].append(each)\n",
    "                else:\n",
    "                    tmp[each % mod // div + 9].append(each)\n",
    "\n",
    "            nums = []\n",
    "            for each in tmp:\n",
    "                nums += each\n",
    "            \n",
    "            mod, div, tmp = mod * 10, div * 10, [[] for _ in range(19)]\n",
    "        return nums"
   ]
  }
 ]
}