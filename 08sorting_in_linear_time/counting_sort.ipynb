{
 "metadata": {
  "language_info": {
   "codemirror_mode": {
    "name": "ipython",
    "version": 3
   },
   "file_extension": ".py",
   "mimetype": "text/x-python",
   "name": "python",
   "nbconvert_exporter": "python",
   "pygments_lexer": "ipython3",
   "version": 3
  },
  "orig_nbformat": 2
 },
 "nbformat": 4,
 "nbformat_minor": 2,
 "cells": [
  {
   "source": [
    "# counting sort\n",
    "\n",
    "测试地址 : https://leetcode-cn.com/problems/sort-an-array/\n",
    "\n",
    "通过所有测试。"
   ],
   "cell_type": "markdown",
   "metadata": {}
  },
  {
   "cell_type": "code",
   "execution_count": null,
   "metadata": {},
   "outputs": [],
   "source": [
    "from typing import List"
   ]
  },
  {
   "cell_type": "code",
   "execution_count": null,
   "metadata": {},
   "outputs": [],
   "source": [
    "class Solution:\n",
    "    def sortArray(self, nums: List[int]) -> List[int]:\n",
    "        if not nums:\n",
    "            return []\n",
    "\n",
    "        _min, _max = min(nums), max(nums)\n",
    "        tmp = [0] * (_max - _min + 1)\n",
    "        for each in nums:\n",
    "            tmp[each - _min] += 1\n",
    "\n",
    "        res = []\n",
    "        for i, each in enumerate(tmp):\n",
    "            for _ in range(each):\n",
    "                res.append(i + _min)\n",
    "\n",
    "        return res"
   ]
  }
 ]
}