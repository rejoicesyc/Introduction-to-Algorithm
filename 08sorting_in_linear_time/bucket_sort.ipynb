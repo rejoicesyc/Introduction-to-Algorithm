{
 "metadata": {
  "language_info": {
   "codemirror_mode": {
    "name": "ipython",
    "version": 3
   },
   "file_extension": ".py",
   "mimetype": "text/x-python",
   "name": "python",
   "nbconvert_exporter": "python",
   "pygments_lexer": "ipython3",
   "version": "3.7.9-final"
  },
  "orig_nbformat": 2,
  "kernelspec": {
   "name": "python379jvsc74a57bd0f0acf795a5bd762d19812954b2c3614cf41b91e8295d3743ee0afb23e3b62dee",
   "display_name": "Python 3.7.9 64-bit"
  }
 },
 "nbformat": 4,
 "nbformat_minor": 2,
 "cells": [
  {
   "source": [
    "# bucket sort\n",
    "\n",
    "测试地址 : https://leetcode-cn.com/problems/sort-an-array/\n",
    "\n",
    "通过所有测试。"
   ],
   "cell_type": "markdown",
   "metadata": {}
  },
  {
   "cell_type": "code",
   "execution_count": 2,
   "metadata": {},
   "outputs": [],
   "source": [
    "from typing import List"
   ]
  },
  {
   "cell_type": "code",
   "execution_count": 5,
   "metadata": {},
   "outputs": [],
   "source": [
    "class Solution:\n",
    "    def sortArray(self, nums: List[int]) -> List[int]:\n",
    "        if len(nums) < 2:\n",
    "            return nums\n",
    "\n",
    "        bucketsize = 10\n",
    "        _min, _max = min(nums), max(nums)\n",
    "        bucketnum = (_max - _min) // bucketsize + 1\n",
    "        bucket = [[] * bucketnum]\n",
    "        for each in nums:\n",
    "            bucket[(each - _min) // bucketsize].append(each)\n",
    "\n",
    "        res = []\n",
    "        for each in bucket:\n",
    "            res += sorted(each) # 可以使用任意的排序方法对每个桶内的元素进行排序\n",
    "        return res\n"
   ]
  },
  {
   "cell_type": "code",
   "execution_count": null,
   "metadata": {},
   "outputs": [],
   "source": []
  }
 ]
}